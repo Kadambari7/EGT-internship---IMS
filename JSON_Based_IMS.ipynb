{
  "nbformat": 4,
  "nbformat_minor": 0,
  "metadata": {
    "colab": {
      "name": "JSON Based IMS.ipynb",
      "provenance": []
    },
    "kernelspec": {
      "name": "python3",
      "display_name": "Python 3"
    },
    "language_info": {
      "name": "python"
    }
  },
  "cells": [
    {
      "cell_type": "code",
      "metadata": {
        "id": "HTRbAFtORoDb"
      },
      "source": [
        "record = { 101 : {\"name\": \"Kitkat\", \"exp date\": \"2025\", \"category\":\"chocolate\",\"price\":\"10\" ,\"quantity\":\"100\"},\n",
        "          102 : {\"name\": \"Banana chips\", \"exp date\": \"2024\", \"category\":\"chips\",\"price\":\"50\" ,\"quantity\":\"150\"},\n",
        "          103 : {\"name\": \"maggi\", \"exp date\": \"2023\", \"category\":\"noodles\",\"price\":\"12\" ,\"quantity\":\"190\"},\n",
        "          104 : {\"name\": \"dove\", \"exp date\": \"2026\", \"category\":\"shampoo\",\"price\":\"15\" ,\"quantity\":\"200\"},\n",
        "          105 : {\"name\": \"bajaj oil\", \"exp date\": \"2027\", \"category\":\"oil\",\"price\":\"70\" ,\"quantity\":\"250\"},\n",
        "          106 : {\"name\": \"dove soap\", \"exp date\": \"2055\", \"category\":\"soap\",\"price\":\"11\" ,\"quantity\":\"110\"},\n",
        "          107 : {\"name\": \"basmati\", \"exp date\": \"2028\", \"category\":\"rice\",\"price\":\"100\" ,\"quantity\":\"1000\"},\n",
        "          108 : {\"name\": \"dairy milk\", \"exp date\": \"2029\", \"category\":\"chocolate\",\"price\":\"20\" ,\"quantity\":\"105\"},\n",
        "          109 : {\"name\": \"life boy\", \"exp date\": \"2025\", \"category\":\"hand wash\",\"price\":\"2\" ,\"quantity\":\"80\"},\n",
        "          110 : {\"name\": \"amul spread\", \"exp date\": \"2025\", \"category\":\"chesse\",\"price\":\"110\" ,\"quantity\":\"111\"},\n",
        "          111 : {\"name\": \"cream n onion\", \"exp date\": \"2030\", \"category\":\"chips\",\"price\":\"10\" ,\"quantity\":\"121\"},\n",
        "          112 : {\"name\": \"colgate\", \"exp date\": \"2035\", \"category\":\"tooth paste\",\"price\":\"10\" ,\"quantity\":\"222\"},\n",
        "          113 : {\"name\": \"fair n grow\", \"exp date\": \"2031\", \"category\":\"cream\",\"price\":\"190\" ,\"quantity\":\"109\"},\n",
        "    114 : {\"name\": \"himalaya face wash\", \"exp date\": \"3025\", \"category\":\"face wash\",\"price\":\"120\" ,\"quantity\":\"90\"},\n",
        "    115 : {\"name\": \"thump up\", \"exp date\": \"2032\", \"category\":\"cold drink\",\"price\":\"80\" ,\"quantity\":\"190\"},\n",
        "    116 : {\"name\": \"oreo\", \"exp date\": \"2022\", \"category\":\"biscuit\",\"price\":\"5\" ,\"quantity\":\"55\"},\n",
        "    117 : {\"name\": \"maaza\", \"exp date\": \"2020\", \"category\":\"cold drink\",\"price\":\"70\" ,\"quantity\":\"500\"},\n",
        "    118 : {\"name\": \"tur dal\", \"exp date\": \"2021\", \"category\":\"dal\",\"price\":\"120\" ,\"quantity\":\"550\"},\n",
        "    119 : {\"name\": \"bru\", \"exp date\": \"2030\", \"category\":\"coffee\",\"price\":\"1\" ,\"quantity\":\"1001\"},\n",
        "    120 : {\"name\": \"yappie\", \"exp date\": \"2035\", \"category\":\"noodle\",\"price\":\"30\" ,\"quantity\":\"119\"},\n",
        "   121 : {\"name\": \"mongo pickle\", \"exp date\": \"2055\", \"category\":\"pickle\",\"price\":\"40\" ,\"quantity\":\"200\"},\n",
        "   122 : {\"name\": \"papad\", \"exp date\": \"2065\", \"category\":\"papad\",\"price\":\"35\" ,\"quantity\":\"118\"},\n",
        "   123 : {\"name\": \"pepsi coke\", \"exp date\": \"2055\", \"category\":\"drink\",\"price\":\"50\" ,\"quantity\":\"117\"},\n",
        "   124 : {\"name\": \"milk made\", \"exp date\": \"2021\", \"category\":\"dairy product\",\"price\":\"75\" ,\"quantity\":\"115\"},\n",
        "   125 : {\"name\": \"soya bean\", \"exp date\": \"3015\", \"category\":\"beans\",\"price\":\"25\" ,\"quantity\":\"110\"},\n",
        "   126 : {\"name\": \"kurkure\", \"exp date\": \"2075\", \"category\":\"kurkure\",\"price\":\"35\" ,\"quantity\":\"200\"},\n",
        "   127 : {\"name\": \"lassi\", \"exp date\": \"2025\", \"category\":\"dairy product\",\"price\":\"55\" ,\"quantity\":\"211\"},\n",
        "   128 : {\"name\": \"faluda\", \"exp date\": \"2050\", \"category\":\"ice cream\",\"price\":\"60\" ,\"quantity\":\"220\"},\n",
        "   129 : {\"name\": \"nuggets\", \"exp date\": \"2045\", \"category\":\"nuggets\",\"price\":\"72\" ,\"quantity\":\"230\"},\n",
        "   130 : {\"name\": \"cornetto\", \"exp date\": \"5555\", \"category\":\"ice cream\",\"price\":\"95\" ,\"quantity\":\"155\"}\n",
        "    \n",
        "    \n",
        "    \n",
        "}"
      ],
      "execution_count": 9,
      "outputs": []
    },
    {
      "cell_type": "code",
      "metadata": {
        "colab": {
          "base_uri": "https://localhost:8080/"
        },
        "id": "_-zzEkGabO80",
        "outputId": "f1a9c978-fcec-43d6-dd15-bc89834f98d3"
      },
      "source": [
        "record "
      ],
      "execution_count": 10,
      "outputs": [
        {
          "output_type": "execute_result",
          "data": {
            "text/plain": [
              "{101: {'category': 'chocolate',\n",
              "  'exp date': '2025',\n",
              "  'name': 'Kitkat',\n",
              "  'price': '10',\n",
              "  'quantity': '100'},\n",
              " 102: {'category': 'chips',\n",
              "  'exp date': '2024',\n",
              "  'name': 'Banana chips',\n",
              "  'price': '50',\n",
              "  'quantity': '150'},\n",
              " 103: {'category': 'noodles',\n",
              "  'exp date': '2023',\n",
              "  'name': 'maggi',\n",
              "  'price': '12',\n",
              "  'quantity': '190'},\n",
              " 104: {'category': 'shampoo',\n",
              "  'exp date': '2026',\n",
              "  'name': 'dove',\n",
              "  'price': '15',\n",
              "  'quantity': '200'},\n",
              " 105: {'category': 'oil',\n",
              "  'exp date': '2027',\n",
              "  'name': 'bajaj oil',\n",
              "  'price': '70',\n",
              "  'quantity': '250'},\n",
              " 106: {'category': 'soap',\n",
              "  'exp date': '2055',\n",
              "  'name': 'dove soap',\n",
              "  'price': '11',\n",
              "  'quantity': '110'},\n",
              " 107: {'category': 'rice',\n",
              "  'exp date': '2028',\n",
              "  'name': 'basmati',\n",
              "  'price': '100',\n",
              "  'quantity': '1000'},\n",
              " 108: {'category': 'chocolate',\n",
              "  'exp date': '2029',\n",
              "  'name': 'dairy milk',\n",
              "  'price': '20',\n",
              "  'quantity': '105'},\n",
              " 109: {'category': 'hand wash',\n",
              "  'exp date': '2025',\n",
              "  'name': 'life boy',\n",
              "  'price': '2',\n",
              "  'quantity': '80'},\n",
              " 110: {'category': 'chesse',\n",
              "  'exp date': '2025',\n",
              "  'name': 'amul spread',\n",
              "  'price': '110',\n",
              "  'quantity': '111'},\n",
              " 111: {'category': 'chips',\n",
              "  'exp date': '2030',\n",
              "  'name': 'cream n onion',\n",
              "  'price': '10',\n",
              "  'quantity': '121'},\n",
              " 112: {'category': 'tooth paste',\n",
              "  'exp date': '2035',\n",
              "  'name': 'colgate',\n",
              "  'price': '10',\n",
              "  'quantity': '222'},\n",
              " 113: {'category': 'cream',\n",
              "  'exp date': '2031',\n",
              "  'name': 'fair n grow',\n",
              "  'price': '190',\n",
              "  'quantity': '109'},\n",
              " 114: {'category': 'face wash',\n",
              "  'exp date': '3025',\n",
              "  'name': 'himalaya face wash',\n",
              "  'price': '120',\n",
              "  'quantity': '90'},\n",
              " 115: {'category': 'cold drink',\n",
              "  'exp date': '2032',\n",
              "  'name': 'thump up',\n",
              "  'price': '80',\n",
              "  'quantity': '190'},\n",
              " 116: {'category': 'biscuit',\n",
              "  'exp date': '2022',\n",
              "  'name': 'oreo',\n",
              "  'price': '5',\n",
              "  'quantity': '55'},\n",
              " 117: {'category': 'cold drink',\n",
              "  'exp date': '2020',\n",
              "  'name': 'maaza',\n",
              "  'price': '70',\n",
              "  'quantity': '500'},\n",
              " 118: {'category': 'dal',\n",
              "  'exp date': '2021',\n",
              "  'name': 'tur dal',\n",
              "  'price': '120',\n",
              "  'quantity': '550'},\n",
              " 119: {'category': 'coffee',\n",
              "  'exp date': '2030',\n",
              "  'name': 'bru',\n",
              "  'price': '1',\n",
              "  'quantity': '1001'},\n",
              " 120: {'category': 'noodle',\n",
              "  'exp date': '2035',\n",
              "  'name': 'yappie',\n",
              "  'price': '30',\n",
              "  'quantity': '119'},\n",
              " 121: {'category': 'pickle',\n",
              "  'exp date': '2055',\n",
              "  'name': 'mongo pickle',\n",
              "  'price': '40',\n",
              "  'quantity': '200'},\n",
              " 122: {'category': 'papad',\n",
              "  'exp date': '2065',\n",
              "  'name': 'papad',\n",
              "  'price': '35',\n",
              "  'quantity': '118'},\n",
              " 123: {'category': 'drink',\n",
              "  'exp date': '2055',\n",
              "  'name': 'pepsi coke',\n",
              "  'price': '50',\n",
              "  'quantity': '117'},\n",
              " 124: {'category': 'dairy product',\n",
              "  'exp date': '2021',\n",
              "  'name': 'milk made',\n",
              "  'price': '75',\n",
              "  'quantity': '115'},\n",
              " 125: {'category': 'beans',\n",
              "  'exp date': '3015',\n",
              "  'name': 'soya bean',\n",
              "  'price': '25',\n",
              "  'quantity': '110'},\n",
              " 126: {'category': 'kurkure',\n",
              "  'exp date': '2075',\n",
              "  'name': 'kurkure',\n",
              "  'price': '35',\n",
              "  'quantity': '200'},\n",
              " 127: {'category': 'dairy product',\n",
              "  'exp date': '2025',\n",
              "  'name': 'lassi',\n",
              "  'price': '55',\n",
              "  'quantity': '211'},\n",
              " 128: {'category': 'ice cream',\n",
              "  'exp date': '2050',\n",
              "  'name': 'faluda',\n",
              "  'price': '60',\n",
              "  'quantity': '220'},\n",
              " 129: {'category': 'nuggets',\n",
              "  'exp date': '2045',\n",
              "  'name': 'nuggets',\n",
              "  'price': '72',\n",
              "  'quantity': '230'},\n",
              " 130: {'category': 'ice cream',\n",
              "  'exp date': '5555',\n",
              "  'name': 'cornetto',\n",
              "  'price': '95',\n",
              "  'quantity': '155'}}"
            ]
          },
          "metadata": {},
          "execution_count": 10
        }
      ]
    },
    {
      "cell_type": "code",
      "metadata": {
        "colab": {
          "base_uri": "https://localhost:8080/"
        },
        "id": "GH5ZkEHmbkmr",
        "outputId": "969e3c3a-6c8d-40f6-d382-b5fd90fad236"
      },
      "source": [
        "reg = 101\n",
        "\n",
        "print(record[reg]['name'])\n",
        "print(record[reg]['exp date'])\n",
        "print(record[reg]['category'])\n",
        "print(record[reg]['price'])\n",
        "print(record[reg]['quantity'])"
      ],
      "execution_count": 16,
      "outputs": [
        {
          "output_type": "stream",
          "name": "stdout",
          "text": [
            "Kitkat\n",
            "2025\n",
            "chocolate\n",
            "10\n",
            "100\n"
          ]
        }
      ]
    },
    {
      "cell_type": "code",
      "metadata": {
        "colab": {
          "base_uri": "https://localhost:8080/"
        },
        "id": "d9TIaWCzdHk_",
        "outputId": "b9d34099-b3e3-44a3-c7fa-3ac084b39c74"
      },
      "source": [
        "type(record)"
      ],
      "execution_count": 17,
      "outputs": [
        {
          "output_type": "execute_result",
          "data": {
            "text/plain": [
              "dict"
            ]
          },
          "metadata": {},
          "execution_count": 17
        }
      ]
    },
    {
      "cell_type": "code",
      "metadata": {
        "colab": {
          "base_uri": "https://localhost:8080/",
          "height": 35
        },
        "id": "q-8lvRltdNDG",
        "outputId": "71bc1e9c-496f-4711-abf3-3535705edd1f"
      },
      "source": [
        "record[102]['price']"
      ],
      "execution_count": 18,
      "outputs": [
        {
          "output_type": "execute_result",
          "data": {
            "application/vnd.google.colaboratory.intrinsic+json": {
              "type": "string"
            },
            "text/plain": [
              "'50'"
            ]
          },
          "metadata": {},
          "execution_count": 18
        }
      ]
    },
    {
      "cell_type": "code",
      "metadata": {
        "id": "Wf00kXN6dda5"
      },
      "source": [
        "record[102]['price'] = 112"
      ],
      "execution_count": 21,
      "outputs": []
    },
    {
      "cell_type": "code",
      "metadata": {
        "colab": {
          "base_uri": "https://localhost:8080/"
        },
        "id": "FpSqEC09dtdL",
        "outputId": "ed40c527-c102-42f8-d3e3-2ff41b70338c"
      },
      "source": [
        "record[102]['price']"
      ],
      "execution_count": 22,
      "outputs": [
        {
          "output_type": "execute_result",
          "data": {
            "text/plain": [
              "112"
            ]
          },
          "metadata": {},
          "execution_count": 22
        }
      ]
    },
    {
      "cell_type": "code",
      "metadata": {
        "id": "AXpjNEpsd92P"
      },
      "source": [
        "import json"
      ],
      "execution_count": 23,
      "outputs": []
    },
    {
      "cell_type": "code",
      "metadata": {
        "id": "x_KIrUBseJml"
      },
      "source": [
        "js = json.dumps(record)"
      ],
      "execution_count": 25,
      "outputs": []
    },
    {
      "cell_type": "code",
      "metadata": {
        "colab": {
          "base_uri": "https://localhost:8080/",
          "height": 145
        },
        "id": "31J0aZ2JeSOo",
        "outputId": "5601efb5-e0cb-44af-eda7-64b6e1ee088d"
      },
      "source": [
        "js"
      ],
      "execution_count": 26,
      "outputs": [
        {
          "output_type": "execute_result",
          "data": {
            "application/vnd.google.colaboratory.intrinsic+json": {
              "type": "string"
            },
            "text/plain": [
              "'{\"101\": {\"name\": \"Kitkat\", \"exp date\": \"2025\", \"category\": \"chocolate\", \"price\": \"10\", \"quantity\": \"100\"}, \"102\": {\"name\": \"Banana chips\", \"exp date\": \"2024\", \"category\": \"chips\", \"price\": 112, \"quantity\": \"150\"}, \"103\": {\"name\": \"maggi\", \"exp date\": \"2023\", \"category\": \"noodles\", \"price\": \"12\", \"quantity\": \"190\"}, \"104\": {\"name\": \"dove\", \"exp date\": \"2026\", \"category\": \"shampoo\", \"price\": \"15\", \"quantity\": \"200\"}, \"105\": {\"name\": \"bajaj oil\", \"exp date\": \"2027\", \"category\": \"oil\", \"price\": \"70\", \"quantity\": \"250\"}, \"106\": {\"name\": \"dove soap\", \"exp date\": \"2055\", \"category\": \"soap\", \"price\": \"11\", \"quantity\": \"110\"}, \"107\": {\"name\": \"basmati\", \"exp date\": \"2028\", \"category\": \"rice\", \"price\": \"100\", \"quantity\": \"1000\"}, \"108\": {\"name\": \"dairy milk\", \"exp date\": \"2029\", \"category\": \"chocolate\", \"price\": \"20\", \"quantity\": \"105\"}, \"109\": {\"name\": \"life boy\", \"exp date\": \"2025\", \"category\": \"hand wash\", \"price\": \"2\", \"quantity\": \"80\"}, \"110\": {\"name\": \"amul spread\", \"exp date\": \"2025\", \"category\": \"chesse\", \"price\": \"110\", \"quantity\": \"111\"}, \"111\": {\"name\": \"cream n onion\", \"exp date\": \"2030\", \"category\": \"chips\", \"price\": \"10\", \"quantity\": \"121\"}, \"112\": {\"name\": \"colgate\", \"exp date\": \"2035\", \"category\": \"tooth paste\", \"price\": \"10\", \"quantity\": \"222\"}, \"113\": {\"name\": \"fair n grow\", \"exp date\": \"2031\", \"category\": \"cream\", \"price\": \"190\", \"quantity\": \"109\"}, \"114\": {\"name\": \"himalaya face wash\", \"exp date\": \"3025\", \"category\": \"face wash\", \"price\": \"120\", \"quantity\": \"90\"}, \"115\": {\"name\": \"thump up\", \"exp date\": \"2032\", \"category\": \"cold drink\", \"price\": \"80\", \"quantity\": \"190\"}, \"116\": {\"name\": \"oreo\", \"exp date\": \"2022\", \"category\": \"biscuit\", \"price\": \"5\", \"quantity\": \"55\"}, \"117\": {\"name\": \"maaza\", \"exp date\": \"2020\", \"category\": \"cold drink\", \"price\": \"70\", \"quantity\": \"500\"}, \"118\": {\"name\": \"tur dal\", \"exp date\": \"2021\", \"category\": \"dal\", \"price\": \"120\", \"quantity\": \"550\"}, \"119\": {\"name\": \"bru\", \"exp date\": \"2030\", \"category\": \"coffee\", \"price\": \"1\", \"quantity\": \"1001\"}, \"120\": {\"name\": \"yappie\", \"exp date\": \"2035\", \"category\": \"noodle\", \"price\": \"30\", \"quantity\": \"119\"}, \"121\": {\"name\": \"mongo pickle\", \"exp date\": \"2055\", \"category\": \"pickle\", \"price\": \"40\", \"quantity\": \"200\"}, \"122\": {\"name\": \"papad\", \"exp date\": \"2065\", \"category\": \"papad\", \"price\": \"35\", \"quantity\": \"118\"}, \"123\": {\"name\": \"pepsi coke\", \"exp date\": \"2055\", \"category\": \"drink\", \"price\": \"50\", \"quantity\": \"117\"}, \"124\": {\"name\": \"milk made\", \"exp date\": \"2021\", \"category\": \"dairy product\", \"price\": \"75\", \"quantity\": \"115\"}, \"125\": {\"name\": \"soya bean\", \"exp date\": \"3015\", \"category\": \"beans\", \"price\": \"25\", \"quantity\": \"110\"}, \"126\": {\"name\": \"kurkure\", \"exp date\": \"2075\", \"category\": \"kurkure\", \"price\": \"35\", \"quantity\": \"200\"}, \"127\": {\"name\": \"lassi\", \"exp date\": \"2025\", \"category\": \"dairy product\", \"price\": \"55\", \"quantity\": \"211\"}, \"128\": {\"name\": \"faluda\", \"exp date\": \"2050\", \"category\": \"ice cream\", \"price\": \"60\", \"quantity\": \"220\"}, \"129\": {\"name\": \"nuggets\", \"exp date\": \"2045\", \"category\": \"nuggets\", \"price\": \"72\", \"quantity\": \"230\"}, \"130\": {\"name\": \"cornetto\", \"exp date\": \"5555\", \"category\": \"ice cream\", \"price\": \"95\", \"quantity\": \"155\"}}'"
            ]
          },
          "metadata": {},
          "execution_count": 26
        }
      ]
    },
    {
      "cell_type": "code",
      "metadata": {
        "colab": {
          "base_uri": "https://localhost:8080/"
        },
        "id": "VOVd3sQyeZsV",
        "outputId": "64afc3b7-86a8-4ff0-f4a1-4ca1ea3ba06f"
      },
      "source": [
        "record"
      ],
      "execution_count": 27,
      "outputs": [
        {
          "output_type": "execute_result",
          "data": {
            "text/plain": [
              "{101: {'category': 'chocolate',\n",
              "  'exp date': '2025',\n",
              "  'name': 'Kitkat',\n",
              "  'price': '10',\n",
              "  'quantity': '100'},\n",
              " 102: {'category': 'chips',\n",
              "  'exp date': '2024',\n",
              "  'name': 'Banana chips',\n",
              "  'price': 112,\n",
              "  'quantity': '150'},\n",
              " 103: {'category': 'noodles',\n",
              "  'exp date': '2023',\n",
              "  'name': 'maggi',\n",
              "  'price': '12',\n",
              "  'quantity': '190'},\n",
              " 104: {'category': 'shampoo',\n",
              "  'exp date': '2026',\n",
              "  'name': 'dove',\n",
              "  'price': '15',\n",
              "  'quantity': '200'},\n",
              " 105: {'category': 'oil',\n",
              "  'exp date': '2027',\n",
              "  'name': 'bajaj oil',\n",
              "  'price': '70',\n",
              "  'quantity': '250'},\n",
              " 106: {'category': 'soap',\n",
              "  'exp date': '2055',\n",
              "  'name': 'dove soap',\n",
              "  'price': '11',\n",
              "  'quantity': '110'},\n",
              " 107: {'category': 'rice',\n",
              "  'exp date': '2028',\n",
              "  'name': 'basmati',\n",
              "  'price': '100',\n",
              "  'quantity': '1000'},\n",
              " 108: {'category': 'chocolate',\n",
              "  'exp date': '2029',\n",
              "  'name': 'dairy milk',\n",
              "  'price': '20',\n",
              "  'quantity': '105'},\n",
              " 109: {'category': 'hand wash',\n",
              "  'exp date': '2025',\n",
              "  'name': 'life boy',\n",
              "  'price': '2',\n",
              "  'quantity': '80'},\n",
              " 110: {'category': 'chesse',\n",
              "  'exp date': '2025',\n",
              "  'name': 'amul spread',\n",
              "  'price': '110',\n",
              "  'quantity': '111'},\n",
              " 111: {'category': 'chips',\n",
              "  'exp date': '2030',\n",
              "  'name': 'cream n onion',\n",
              "  'price': '10',\n",
              "  'quantity': '121'},\n",
              " 112: {'category': 'tooth paste',\n",
              "  'exp date': '2035',\n",
              "  'name': 'colgate',\n",
              "  'price': '10',\n",
              "  'quantity': '222'},\n",
              " 113: {'category': 'cream',\n",
              "  'exp date': '2031',\n",
              "  'name': 'fair n grow',\n",
              "  'price': '190',\n",
              "  'quantity': '109'},\n",
              " 114: {'category': 'face wash',\n",
              "  'exp date': '3025',\n",
              "  'name': 'himalaya face wash',\n",
              "  'price': '120',\n",
              "  'quantity': '90'},\n",
              " 115: {'category': 'cold drink',\n",
              "  'exp date': '2032',\n",
              "  'name': 'thump up',\n",
              "  'price': '80',\n",
              "  'quantity': '190'},\n",
              " 116: {'category': 'biscuit',\n",
              "  'exp date': '2022',\n",
              "  'name': 'oreo',\n",
              "  'price': '5',\n",
              "  'quantity': '55'},\n",
              " 117: {'category': 'cold drink',\n",
              "  'exp date': '2020',\n",
              "  'name': 'maaza',\n",
              "  'price': '70',\n",
              "  'quantity': '500'},\n",
              " 118: {'category': 'dal',\n",
              "  'exp date': '2021',\n",
              "  'name': 'tur dal',\n",
              "  'price': '120',\n",
              "  'quantity': '550'},\n",
              " 119: {'category': 'coffee',\n",
              "  'exp date': '2030',\n",
              "  'name': 'bru',\n",
              "  'price': '1',\n",
              "  'quantity': '1001'},\n",
              " 120: {'category': 'noodle',\n",
              "  'exp date': '2035',\n",
              "  'name': 'yappie',\n",
              "  'price': '30',\n",
              "  'quantity': '119'},\n",
              " 121: {'category': 'pickle',\n",
              "  'exp date': '2055',\n",
              "  'name': 'mongo pickle',\n",
              "  'price': '40',\n",
              "  'quantity': '200'},\n",
              " 122: {'category': 'papad',\n",
              "  'exp date': '2065',\n",
              "  'name': 'papad',\n",
              "  'price': '35',\n",
              "  'quantity': '118'},\n",
              " 123: {'category': 'drink',\n",
              "  'exp date': '2055',\n",
              "  'name': 'pepsi coke',\n",
              "  'price': '50',\n",
              "  'quantity': '117'},\n",
              " 124: {'category': 'dairy product',\n",
              "  'exp date': '2021',\n",
              "  'name': 'milk made',\n",
              "  'price': '75',\n",
              "  'quantity': '115'},\n",
              " 125: {'category': 'beans',\n",
              "  'exp date': '3015',\n",
              "  'name': 'soya bean',\n",
              "  'price': '25',\n",
              "  'quantity': '110'},\n",
              " 126: {'category': 'kurkure',\n",
              "  'exp date': '2075',\n",
              "  'name': 'kurkure',\n",
              "  'price': '35',\n",
              "  'quantity': '200'},\n",
              " 127: {'category': 'dairy product',\n",
              "  'exp date': '2025',\n",
              "  'name': 'lassi',\n",
              "  'price': '55',\n",
              "  'quantity': '211'},\n",
              " 128: {'category': 'ice cream',\n",
              "  'exp date': '2050',\n",
              "  'name': 'faluda',\n",
              "  'price': '60',\n",
              "  'quantity': '220'},\n",
              " 129: {'category': 'nuggets',\n",
              "  'exp date': '2045',\n",
              "  'name': 'nuggets',\n",
              "  'price': '72',\n",
              "  'quantity': '230'},\n",
              " 130: {'category': 'ice cream',\n",
              "  'exp date': '5555',\n",
              "  'name': 'cornetto',\n",
              "  'price': '95',\n",
              "  'quantity': '155'}}"
            ]
          },
          "metadata": {},
          "execution_count": 27
        }
      ]
    },
    {
      "cell_type": "code",
      "metadata": {
        "colab": {
          "base_uri": "https://localhost:8080/"
        },
        "id": "g4MrBxJceoV7",
        "outputId": "0f15bbfa-021e-4a12-8773-22cea4d9886a"
      },
      "source": [
        "type(js)"
      ],
      "execution_count": 28,
      "outputs": [
        {
          "output_type": "execute_result",
          "data": {
            "text/plain": [
              "str"
            ]
          },
          "metadata": {},
          "execution_count": 28
        }
      ]
    },
    {
      "cell_type": "code",
      "metadata": {
        "colab": {
          "base_uri": "https://localhost:8080/"
        },
        "id": "5hekyv40esvq",
        "outputId": "9be42bee-fd8d-4a96-8d92-b652d8ae18f8"
      },
      "source": [
        "type(record)"
      ],
      "execution_count": 29,
      "outputs": [
        {
          "output_type": "execute_result",
          "data": {
            "text/plain": [
              "dict"
            ]
          },
          "metadata": {},
          "execution_count": 29
        }
      ]
    },
    {
      "cell_type": "code",
      "metadata": {
        "id": "0UFxdbgne2lm"
      },
      "source": [
        "fd = open(\"record.json\", 'w')\n",
        "fd.write(js)\n",
        "fd.close()"
      ],
      "execution_count": 30,
      "outputs": []
    },
    {
      "cell_type": "code",
      "metadata": {
        "id": "qXGjDR9UfRVG"
      },
      "source": [
        "fd = open(\"record.json\", 'r')\n",
        "txt = fd.read()\n",
        "fd.close()"
      ],
      "execution_count": 31,
      "outputs": []
    },
    {
      "cell_type": "code",
      "metadata": {
        "id": "h375EKpmfi6B"
      },
      "source": [
        "record = json.loads(txt)"
      ],
      "execution_count": 32,
      "outputs": []
    },
    {
      "cell_type": "code",
      "metadata": {
        "colab": {
          "base_uri": "https://localhost:8080/"
        },
        "id": "s90q9APtfptk",
        "outputId": "dad29ab5-e2fc-441b-c066-68febd02aab7"
      },
      "source": [
        "record"
      ],
      "execution_count": 33,
      "outputs": [
        {
          "output_type": "execute_result",
          "data": {
            "text/plain": [
              "{'101': {'category': 'chocolate',\n",
              "  'exp date': '2025',\n",
              "  'name': 'Kitkat',\n",
              "  'price': '10',\n",
              "  'quantity': '100'},\n",
              " '102': {'category': 'chips',\n",
              "  'exp date': '2024',\n",
              "  'name': 'Banana chips',\n",
              "  'price': 112,\n",
              "  'quantity': '150'},\n",
              " '103': {'category': 'noodles',\n",
              "  'exp date': '2023',\n",
              "  'name': 'maggi',\n",
              "  'price': '12',\n",
              "  'quantity': '190'},\n",
              " '104': {'category': 'shampoo',\n",
              "  'exp date': '2026',\n",
              "  'name': 'dove',\n",
              "  'price': '15',\n",
              "  'quantity': '200'},\n",
              " '105': {'category': 'oil',\n",
              "  'exp date': '2027',\n",
              "  'name': 'bajaj oil',\n",
              "  'price': '70',\n",
              "  'quantity': '250'},\n",
              " '106': {'category': 'soap',\n",
              "  'exp date': '2055',\n",
              "  'name': 'dove soap',\n",
              "  'price': '11',\n",
              "  'quantity': '110'},\n",
              " '107': {'category': 'rice',\n",
              "  'exp date': '2028',\n",
              "  'name': 'basmati',\n",
              "  'price': '100',\n",
              "  'quantity': '1000'},\n",
              " '108': {'category': 'chocolate',\n",
              "  'exp date': '2029',\n",
              "  'name': 'dairy milk',\n",
              "  'price': '20',\n",
              "  'quantity': '105'},\n",
              " '109': {'category': 'hand wash',\n",
              "  'exp date': '2025',\n",
              "  'name': 'life boy',\n",
              "  'price': '2',\n",
              "  'quantity': '80'},\n",
              " '110': {'category': 'chesse',\n",
              "  'exp date': '2025',\n",
              "  'name': 'amul spread',\n",
              "  'price': '110',\n",
              "  'quantity': '111'},\n",
              " '111': {'category': 'chips',\n",
              "  'exp date': '2030',\n",
              "  'name': 'cream n onion',\n",
              "  'price': '10',\n",
              "  'quantity': '121'},\n",
              " '112': {'category': 'tooth paste',\n",
              "  'exp date': '2035',\n",
              "  'name': 'colgate',\n",
              "  'price': '10',\n",
              "  'quantity': '222'},\n",
              " '113': {'category': 'cream',\n",
              "  'exp date': '2031',\n",
              "  'name': 'fair n grow',\n",
              "  'price': '190',\n",
              "  'quantity': '109'},\n",
              " '114': {'category': 'face wash',\n",
              "  'exp date': '3025',\n",
              "  'name': 'himalaya face wash',\n",
              "  'price': '120',\n",
              "  'quantity': '90'},\n",
              " '115': {'category': 'cold drink',\n",
              "  'exp date': '2032',\n",
              "  'name': 'thump up',\n",
              "  'price': '80',\n",
              "  'quantity': '190'},\n",
              " '116': {'category': 'biscuit',\n",
              "  'exp date': '2022',\n",
              "  'name': 'oreo',\n",
              "  'price': '5',\n",
              "  'quantity': '55'},\n",
              " '117': {'category': 'cold drink',\n",
              "  'exp date': '2020',\n",
              "  'name': 'maaza',\n",
              "  'price': '70',\n",
              "  'quantity': '500'},\n",
              " '118': {'category': 'dal',\n",
              "  'exp date': '2021',\n",
              "  'name': 'tur dal',\n",
              "  'price': '120',\n",
              "  'quantity': '550'},\n",
              " '119': {'category': 'coffee',\n",
              "  'exp date': '2030',\n",
              "  'name': 'bru',\n",
              "  'price': '1',\n",
              "  'quantity': '1001'},\n",
              " '120': {'category': 'noodle',\n",
              "  'exp date': '2035',\n",
              "  'name': 'yappie',\n",
              "  'price': '30',\n",
              "  'quantity': '119'},\n",
              " '121': {'category': 'pickle',\n",
              "  'exp date': '2055',\n",
              "  'name': 'mongo pickle',\n",
              "  'price': '40',\n",
              "  'quantity': '200'},\n",
              " '122': {'category': 'papad',\n",
              "  'exp date': '2065',\n",
              "  'name': 'papad',\n",
              "  'price': '35',\n",
              "  'quantity': '118'},\n",
              " '123': {'category': 'drink',\n",
              "  'exp date': '2055',\n",
              "  'name': 'pepsi coke',\n",
              "  'price': '50',\n",
              "  'quantity': '117'},\n",
              " '124': {'category': 'dairy product',\n",
              "  'exp date': '2021',\n",
              "  'name': 'milk made',\n",
              "  'price': '75',\n",
              "  'quantity': '115'},\n",
              " '125': {'category': 'beans',\n",
              "  'exp date': '3015',\n",
              "  'name': 'soya bean',\n",
              "  'price': '25',\n",
              "  'quantity': '110'},\n",
              " '126': {'category': 'kurkure',\n",
              "  'exp date': '2075',\n",
              "  'name': 'kurkure',\n",
              "  'price': '35',\n",
              "  'quantity': '200'},\n",
              " '127': {'category': 'dairy product',\n",
              "  'exp date': '2025',\n",
              "  'name': 'lassi',\n",
              "  'price': '55',\n",
              "  'quantity': '211'},\n",
              " '128': {'category': 'ice cream',\n",
              "  'exp date': '2050',\n",
              "  'name': 'faluda',\n",
              "  'price': '60',\n",
              "  'quantity': '220'},\n",
              " '129': {'category': 'nuggets',\n",
              "  'exp date': '2045',\n",
              "  'name': 'nuggets',\n",
              "  'price': '72',\n",
              "  'quantity': '230'},\n",
              " '130': {'category': 'ice cream',\n",
              "  'exp date': '5555',\n",
              "  'name': 'cornetto',\n",
              "  'price': '95',\n",
              "  'quantity': '155'}}"
            ]
          },
          "metadata": {},
          "execution_count": 33
        }
      ]
    },
    {
      "cell_type": "code",
      "metadata": {
        "colab": {
          "base_uri": "https://localhost:8080/",
          "height": 199
        },
        "id": "F_VIwfmOfurL",
        "outputId": "e03358a6-03f2-441a-e8e3-b55ef81c25c5"
      },
      "source": [
        "js"
      ],
      "execution_count": 34,
      "outputs": [
        {
          "output_type": "execute_result",
          "data": {
            "application/vnd.google.colaboratory.intrinsic+json": {
              "type": "string"
            },
            "text/plain": [
              "'{\"101\": {\"name\": \"Kitkat\", \"exp date\": \"2025\", \"category\": \"chocolate\", \"price\": \"10\", \"quantity\": \"100\"}, \"102\": {\"name\": \"Banana chips\", \"exp date\": \"2024\", \"category\": \"chips\", \"price\": 112, \"quantity\": \"150\"}, \"103\": {\"name\": \"maggi\", \"exp date\": \"2023\", \"category\": \"noodles\", \"price\": \"12\", \"quantity\": \"190\"}, \"104\": {\"name\": \"dove\", \"exp date\": \"2026\", \"category\": \"shampoo\", \"price\": \"15\", \"quantity\": \"200\"}, \"105\": {\"name\": \"bajaj oil\", \"exp date\": \"2027\", \"category\": \"oil\", \"price\": \"70\", \"quantity\": \"250\"}, \"106\": {\"name\": \"dove soap\", \"exp date\": \"2055\", \"category\": \"soap\", \"price\": \"11\", \"quantity\": \"110\"}, \"107\": {\"name\": \"basmati\", \"exp date\": \"2028\", \"category\": \"rice\", \"price\": \"100\", \"quantity\": \"1000\"}, \"108\": {\"name\": \"dairy milk\", \"exp date\": \"2029\", \"category\": \"chocolate\", \"price\": \"20\", \"quantity\": \"105\"}, \"109\": {\"name\": \"life boy\", \"exp date\": \"2025\", \"category\": \"hand wash\", \"price\": \"2\", \"quantity\": \"80\"}, \"110\": {\"name\": \"amul spread\", \"exp date\": \"2025\", \"category\": \"chesse\", \"price\": \"110\", \"quantity\": \"111\"}, \"111\": {\"name\": \"cream n onion\", \"exp date\": \"2030\", \"category\": \"chips\", \"price\": \"10\", \"quantity\": \"121\"}, \"112\": {\"name\": \"colgate\", \"exp date\": \"2035\", \"category\": \"tooth paste\", \"price\": \"10\", \"quantity\": \"222\"}, \"113\": {\"name\": \"fair n grow\", \"exp date\": \"2031\", \"category\": \"cream\", \"price\": \"190\", \"quantity\": \"109\"}, \"114\": {\"name\": \"himalaya face wash\", \"exp date\": \"3025\", \"category\": \"face wash\", \"price\": \"120\", \"quantity\": \"90\"}, \"115\": {\"name\": \"thump up\", \"exp date\": \"2032\", \"category\": \"cold drink\", \"price\": \"80\", \"quantity\": \"190\"}, \"116\": {\"name\": \"oreo\", \"exp date\": \"2022\", \"category\": \"biscuit\", \"price\": \"5\", \"quantity\": \"55\"}, \"117\": {\"name\": \"maaza\", \"exp date\": \"2020\", \"category\": \"cold drink\", \"price\": \"70\", \"quantity\": \"500\"}, \"118\": {\"name\": \"tur dal\", \"exp date\": \"2021\", \"category\": \"dal\", \"price\": \"120\", \"quantity\": \"550\"}, \"119\": {\"name\": \"bru\", \"exp date\": \"2030\", \"category\": \"coffee\", \"price\": \"1\", \"quantity\": \"1001\"}, \"120\": {\"name\": \"yappie\", \"exp date\": \"2035\", \"category\": \"noodle\", \"price\": \"30\", \"quantity\": \"119\"}, \"121\": {\"name\": \"mongo pickle\", \"exp date\": \"2055\", \"category\": \"pickle\", \"price\": \"40\", \"quantity\": \"200\"}, \"122\": {\"name\": \"papad\", \"exp date\": \"2065\", \"category\": \"papad\", \"price\": \"35\", \"quantity\": \"118\"}, \"123\": {\"name\": \"pepsi coke\", \"exp date\": \"2055\", \"category\": \"drink\", \"price\": \"50\", \"quantity\": \"117\"}, \"124\": {\"name\": \"milk made\", \"exp date\": \"2021\", \"category\": \"dairy product\", \"price\": \"75\", \"quantity\": \"115\"}, \"125\": {\"name\": \"soya bean\", \"exp date\": \"3015\", \"category\": \"beans\", \"price\": \"25\", \"quantity\": \"110\"}, \"126\": {\"name\": \"kurkure\", \"exp date\": \"2075\", \"category\": \"kurkure\", \"price\": \"35\", \"quantity\": \"200\"}, \"127\": {\"name\": \"lassi\", \"exp date\": \"2025\", \"category\": \"dairy product\", \"price\": \"55\", \"quantity\": \"211\"}, \"128\": {\"name\": \"faluda\", \"exp date\": \"2050\", \"category\": \"ice cream\", \"price\": \"60\", \"quantity\": \"220\"}, \"129\": {\"name\": \"nuggets\", \"exp date\": \"2045\", \"category\": \"nuggets\", \"price\": \"72\", \"quantity\": \"230\"}, \"130\": {\"name\": \"cornetto\", \"exp date\": \"5555\", \"category\": \"ice cream\", \"price\": \"95\", \"quantity\": \"155\"}}'"
            ]
          },
          "metadata": {},
          "execution_count": 34
        }
      ]
    },
    {
      "cell_type": "code",
      "metadata": {
        "id": "3DID65pafxGk"
      },
      "source": [
        "import time"
      ],
      "execution_count": 35,
      "outputs": []
    },
    {
      "cell_type": "code",
      "metadata": {
        "colab": {
          "base_uri": "https://localhost:8080/",
          "height": 35
        },
        "id": "mw-Kz4_uf0gO",
        "outputId": "f12b3bd4-9ca6-4457-92c1-a0b9de4645de"
      },
      "source": [
        "time.ctime()"
      ],
      "execution_count": 36,
      "outputs": [
        {
          "output_type": "execute_result",
          "data": {
            "application/vnd.google.colaboratory.intrinsic+json": {
              "type": "string"
            },
            "text/plain": [
              "'Mon Sep  6 14:24:32 2021'"
            ]
          },
          "metadata": {},
          "execution_count": 36
        }
      ]
    }
  ]
}